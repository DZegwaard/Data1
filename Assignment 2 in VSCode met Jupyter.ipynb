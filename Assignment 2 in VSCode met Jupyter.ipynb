{
 "cells": [
  {
   "cell_type": "markdown",
   "metadata": {},
   "source": [
    "# Question 1\n",
    "\n",
    "How many of the canal boats currently in use are diesel/fossil fuel driven and how many boats are electrical driven?  \n",
    "\n",
    "In 2020 there were 550 canal boats in Amsterdam, owned by multiple companies. According to Reuters (2020), 75% of these boats (412 boats) are electrical driven. We suppose that the rest of the boats is fossil fuel driven. "
   ]
  },
  {
   "cell_type": "markdown",
   "metadata": {},
   "source": [
    "# Question 2\n",
    "\n",
    "Are there peak times for the canal boats? \n",
    "\n",
    "There are certain peak times of the canal boats in Amsterdam (Grachtenmonitor, 2022). In the graph below, the average amount of boats per hour on a day is visualized. \n",
    "\n",
    "![Alt text](image.png)\n",
    "\n",
    "\n",
    "\n",
    "In the graph below, the weekly rhytm of canal boats in Amsterdam can be seen.\n",
    "\n",
    "![Alt text](image-1.png)\n",
    "\n",
    "\n",
    "In the table below, the passages per hour of the day on certain locations in Amsterdam can be seen. It is clear that there are some very busy spots at certain times.\n",
    "\n",
    "![Alt text](image-2.png)"
   ]
  },
  {
   "cell_type": "markdown",
   "metadata": {},
   "source": [
    "# Question 3. \n",
    "Try to compare the energy use of the canal boats to some other activity in the city. \n",
    "Use canal boats more or less energy in relation to their carbon footprint compared to these other activities?\n",
    "\n",
    "Overall, both energy use and CO2 emissions of the canal boats is higher both per individual boat compared to an individual eletric bus as well as the totals, however there are only 44 electric busses where as there are 412 electric canal boats and 138 diesel ones."
   ]
  },
  {
   "cell_type": "code",
   "execution_count": 6,
   "metadata": {},
   "outputs": [
    {
     "name": "stdout",
     "output_type": "stream",
     "text": [
      "Energy use for electrical boats 39098800 kWh\n",
      "14466556.0 kg CO2\n",
      "Average footprint wind energy 821074.5 kg CO2\n",
      "footprint windpower lower limit 312790 kg CO2/year\n",
      "footprint windpower lower limit 1329359 kg CO2/year\n",
      "Average footprint solar energy 840624.0 kg CO2\n",
      "footprint windpower lower limit 508284 kg CO2/year\n",
      "footprint windpower lower limit 1172964 kg CO2/year\n"
     ]
    }
   ],
   "source": [
    "#Engine type = Electric\n",
    "\n",
    "Energy_use_boat_in_kW = 26\n",
    "\n",
    "\n",
    "\n",
    "#For 412 boats, sailing 10 hours a day, the yearly energy consumption is\n",
    "\n",
    "Hours = 10\n",
    "\n",
    "days_in_year = 365\n",
    "\n",
    "Amount_of_boats_in_Amsterdam = 412\n",
    "\n",
    "Energy_use_for_electrical_boats = Energy_use_boat_in_kW * Hours * days_in_year * Amount_of_boats_in_Amsterdam\n",
    "\n",
    "print(\"Energy use for electrical boats\", Energy_use_for_electrical_boats, \"kWh\")\n",
    "\n",
    "kg_CO2_per_kWh = 0.37\n",
    "\n",
    "total_CO2_electrical_boats = Energy_use_for_electrical_boats * kg_CO2_per_kWh\n",
    "\n",
    "#Met 0.37 ratio van Yoriq, source? source is wrong\n",
    "\n",
    "print(total_CO2_electrical_boats, \"kg CO2\")\n",
    "\n",
    "Footprint_grey_kg_CO2_per_year = 14466556\n",
    "\n",
    "#Footprint windpower (kg CO2/year) per kWh?\n",
    "footprint_windpower_upper_limit= 1329359\n",
    "footprint_windpower_lower_limit = 312790\n",
    "average_footprint_wind = (footprint_windpower_upper_limit + footprint_windpower_lower_limit) / 2\n",
    "\n",
    "print(\"Average footprint wind energy\", average_footprint_wind, \"kg CO2\")\n",
    "\n",
    "print(\"footprint windpower lower limit\", footprint_windpower_lower_limit, \"kg CO2/year\")\n",
    "print(\"footprint windpower lower limit\", footprint_windpower_upper_limit, \"kg CO2/year\")\n",
    "\n",
    "#Footprint solar (kg CO2/year) per kWh?\n",
    "footprint_solar_upper_limit = 1172964\n",
    "footprint_solar_lower_limit = 508284\n",
    "\n",
    "average_footprint_solar = (footprint_solar_upper_limit + footprint_solar_lower_limit) / 2\n",
    "\n",
    "print(\"Average footprint solar energy\", average_footprint_solar, \"kg CO2\")\n",
    "\n",
    "print(\"footprint windpower lower limit\", footprint_solar_lower_limit, \"kg CO2/year\")\n",
    "print(\"footprint windpower lower limit\", footprint_solar_upper_limit, \"kg CO2/year\")"
   ]
  },
  {
   "cell_type": "code",
   "execution_count": 13,
   "metadata": {},
   "outputs": [
    {
     "name": "stdout",
     "output_type": "stream",
     "text": [
      "CO2 emission for one boat on wind energy 7350.0 g CO2\n",
      "CO2 emission for all boats on wind energy 3028200.0 g CO2\n",
      "CO2 emission for one boat on solar energy 7525.0 g CO2\n",
      "CO2 emission for all boats on solar energy 3100300.0 g CO2\n"
     ]
    }
   ],
   "source": [
    "# Source:  https://decorrespondent.nl/4256/factcheck-windmolens-kosten-meer-energie-dan-ze-opleveren-en-helpen-het-klimaat-niet/c2faef7a-df3a-0150-1a71-204f4ea80f44#:~:text=Daaruit%20blijkt%20dat%20de%20gemiddelde,gemiddeld%20900%20gram%20per%20kWh.\n",
    "# Mentions: “Uit de vijftig schattingen uit twintig studies die in het IPCC-onderzoek besproken worden, komt de gemiddelde waarde tussen de 8 en de 20 g CO2-equivalent per kWh uit. De andere grote overzichtsstudie die we hebben bekeken, houdt het op een gemiddelde van 34.1 g CO2-equivalent per kWh.”\n",
    "\n",
    "# Meaning that per kWh, between 8 grams and 34 grams of CO2 is emitted for windmills. So the average that would be\n",
    "Emission_wind_per_kWh = 8 + ((34-8)/2)\n",
    "\n",
    "#So per boat, that is charged overnight with 350 kWh, the emission for one day for sailing on wind electricity would be: \n",
    "\n",
    "Emission_total_wind_one_boat_per_day = Emission_wind_per_kWh * 350\n",
    "\n",
    "print(\"CO2 emission for one boat on wind energy\", Emission_total_wind_one_boat_per_day, \"g CO2\")\n",
    "\n",
    "Emission_total_of_all_boats_on_wind_energy = Emission_total_wind_one_boat_per_day * Amount_of_boats_in_Amsterdam\n",
    "\n",
    "print(\"CO2 emission for all boats on wind energy\", Emission_total_of_all_boats_on_wind_energy, \"g CO2\")\n",
    "\n",
    "# Source: https://www.wattisduurzaam.nl/35498/energie-opwekken/zonne-energie/europese-zonnepanelen-nog-iets-beter-voor-klimaat-dan-chinese/#:~:text=De%20wetenschappers%20aan%20het%20Duitse,n%20800%20gram%20CO2%20uit\n",
    "#Mentions: ”De wetenschappers aan het Duitse onderzoeksinstituut komen tot een uitstoot van 13 tot 30 gram CO2 voor elke kilowattuur die een zonnepaneel over zijn gebruiksduur levert.” \n",
    "\n",
    "# Meaning that per kWh, between 13 grams and 30 grams of CO2 is emitted for windmills. So the average that would be\n",
    "Emission_solar_per_kWh = 13 + ((30-13)/2)\n",
    "\n",
    "#So per boat, that is charged overnight with 350 kWh, the emission for one day for sailing on solar electricity would be: \n",
    "\n",
    "Emission_total_solar_one_boat_per_day = Emission_solar_per_kWh * 350\n",
    "\n",
    "print(\"CO2 emission for one boat on solar energy\", Emission_total_solar_one_boat_per_day, \"g CO2\") \n",
    "\n",
    "Emission_total_of_all_boats_on_solar_energy = Emission_total_solar_one_boat_per_day * Amount_of_boats_in_Amsterdam\n",
    "\n",
    "print(\"CO2 emission for all boats on solar energy\", Emission_total_of_all_boats_on_solar_energy, \"g CO2\")\n"
   ]
  },
  {
   "cell_type": "code",
   "execution_count": 7,
   "metadata": {},
   "outputs": [
    {
     "name": "stdout",
     "output_type": "stream",
     "text": [
      "144200 kWh\n"
     ]
    }
   ],
   "source": [
    "# Alternatively, https://www.installatiejournaal.nl/10946/rondvaartboten-ombouwen-van-diesel-naar-elektrisch mentions that rondvaartboten need to be charged with 350kWh, if they are only charged at night. \n",
    "\n",
    "Charge_battery_overnight = 350\n",
    "\n",
    "energy_use_canal_all_electric_boats = Amount_of_boats_in_Amsterdam * Charge_battery_overnight\n",
    "\n",
    "print(energy_use_canal_boats, \"kWh\")\n",
    "\n",
    "# Using solar energy and the information above, with the ratio of ...................the amount of CO2 emitted would be\n",
    "\n",
    "Average\n"
   ]
  },
  {
   "cell_type": "code",
   "execution_count": null,
   "metadata": {},
   "outputs": [],
   "source": [
    "#Source:\n",
    "https://www.wattisduurzaam.nl/35498/energie-opwekken/zonne-energie/europese-zonnepanelen-nog-iets-beter-voor-klimaat-dan-chinese/#:~:text=De%20wetenschappers%20aan%20het%20Duitse,n%20800%20gram%20CO2%20uit.\n",
    "\n",
    "#Source: \n",
    "https://decorrespondent.nl/4256/factcheck-windmolens-kosten-meer-energie-dan-ze-opleveren-en-helpen-het-klimaat-niet/c2faef7a-df3a-0150-1a71-204f4ea80f44#:~:text=Daaruit%20blijkt%20dat%20de%20gemiddelde,gemiddeld%20900%20gram%20per%20kWh"
   ]
  },
  {
   "cell_type": "code",
   "execution_count": 2,
   "metadata": {},
   "outputs": [
    {
     "name": "stdout",
     "output_type": "stream",
     "text": [
      "total litres of diesel per year 14600 L\n",
      "Energy use diesel boats 102200 kWh\n",
      "5250569 kg CO2\n"
     ]
    }
   ],
   "source": [
    "#Engine_type = Diesel\n",
    "\n",
    "Average_litres_per_hour = 4\n",
    "\n",
    "hours_in_use_per_day = 10 \n",
    "\n",
    "total_litres_day = Average_litres_per_hour * hours_in_use_per_day\n",
    "\n",
    "total_litres_year = total_litres_day * 365\n",
    "\n",
    "print(\"total litres of diesel per year\", total_litres_year,\"L\")\n",
    "\n",
    "#Dieselbus gemeten volgens co2emissiefactoren.nl Nemen we evenwel de CO2 emissie zoals berekend door co2emissiefactoren.nl, \n",
    "# dan komen we op 3.230 gram CO2 uitstoot per liter diesel. De bus rijdt 3,5 km op één liter en dus kom je dan op een uitstoot van 923 gram CO2 per km. \n",
    "# In dit geval nemen we de 7 kWh per liter voor de gehele productieketen zoals berekend door Prof. Burkert van Springer niet mee.\n",
    "\n",
    "Energy_per_litre_diesel_in_kWh = 7 \n",
    "\n",
    "Energy_use_dieselboats = total_litres_year * Energy_per_litre_diesel_in_kWh\n",
    "\n",
    "print(\"Energy use diesel boats\", Energy_use_dieselboats, \"kWh\")\n",
    "\n",
    "Energy_use_per_year_kWh = 20148000\n",
    "\n",
    "#Dieselbus gemeten volgens co2emissiefactoren.nl Nemen we evenwel de CO2 emissie zoals berekend door co2emissiefactoren.nl, \n",
    "# dan komen we op 3.230 gram CO2 uitstoot per liter diesel. De bus rijdt 3,5 km op één liter en dus kom je dan op een uitstoot van 923 gram CO2 per km. \n",
    "# In dit geval nemen we de 7 kWh per liter voor de gehele productieketen zoals berekend door Prof. Burkert van Springer niet mee.\n",
    "\n",
    "#Uitstoot per kilometer voor een Dieselbus is volgens burkert 1856 gram oftewel 1.856 kg\n",
    "\n",
    "#Een bus rijdt 1 kilometer op 3.5 liter diesel\n",
    " \n",
    "Emission_CO2_per_litre = 1.856 / 3.5\n",
    "\n",
    "# Emission_dieselbus_per_year = total\n",
    "\n",
    "\n",
    "\n",
    "Footprint_per_year_kg_CO2 = 5250569\n",
    "\n",
    "print(Footprint_per_year_kg_CO2, \"kg CO2\")"
   ]
  },
  {
   "cell_type": "code",
   "execution_count": 1,
   "metadata": {},
   "outputs": [
    {
     "ename": "SyntaxError",
     "evalue": "invalid syntax (3402074878.py, line 3)",
     "output_type": "error",
     "traceback": [
      "\u001b[1;36m  Cell \u001b[1;32mIn[1], line 3\u001b[1;36m\u001b[0m\n\u001b[1;33m    Energy use per year (kWh) = 3300000\u001b[0m\n\u001b[1;37m           ^\u001b[0m\n\u001b[1;31mSyntaxError\u001b[0m\u001b[1;31m:\u001b[0m invalid syntax\n"
     ]
    }
   ],
   "source": [
    "Bus = Electric\n",
    "\n",
    "Energy use per year (kWh) = 3300000\n",
    "\n",
    "Footprint grey per year (kg CO2) = 1834800\n",
    "\n",
    "# Wind power\n",
    "\n",
    "footprint wind power per year upper limit (kg CO2) = 112200\n",
    "\n",
    "footprint wind power per year lower limit (kg CO2) = 99000\n",
    "\n",
    "# Solar power\n",
    "\n",
    "footprint solar power per year upper limit (kg CO2) = 26400\n",
    "\n",
    "footprint solar power per year lower limit (kg CO2) = 42900\n",
    "\n",
    "#Source: https://waterstofgate.nl/Praktijk/Businesscase-Bussen-verbruik/Businesscase-Bussen-CO2-uitstoot/#:~:text=Zijn%20er%20zorgen%20over%20de,en%20verbruikt%2075.000%20kWh%20elektriciteit."
   ]
  },
  {
   "cell_type": "markdown",
   "metadata": {},
   "source": [
    "# Question 3\n",
    "\n",
    "Would you consider it economically feasible?\n",
    "\n",
    "Converting a canal boat with a diesel engine to an electric engine is expensive. For a typical 23m (75ft.) tourist boat, this will cost around 165.000 to 250.000 euros. The conversion process takes about three months. The engines are quieter, cleaner and cheaper to run. Boat companies earn their investment back in about 12 years, according to the Paris Process on Mobility and Climate, a body that is supporting sustainable transport projects. \n",
    "\n",
    "A lot of boat companies chose to keep their old boats and only convert the engine instead of replacing the old boats. This is a more circular solution and keeps the charm of the old canal boats in the city. At ‘Rederij Kooij’ they calculated, that conversion to an electric driven engine is way cheaper than the old diesel enigines. \n",
    "\n"
   ]
  },
  {
   "cell_type": "markdown",
   "metadata": {},
   "source": [
    "# Question 4\n",
    "\n",
    "A minimum of 7 boats is required. These safety crafts should be able to hold at least 3 people. \n",
    "\n"
   ]
  },
  {
   "cell_type": "code",
   "execution_count": null,
   "metadata": {},
   "outputs": [],
   "source": []
  },
  {
   "cell_type": "markdown",
   "metadata": {},
   "source": [
    "# Question 5\n",
    "\n",
    "If only clean energy can be used, how many solar panels or wind turbines are needed?\n",
    "\n",
    "\n",
    "A boat from greenboatsolutions would require around 2,4 kW. If this boat would sail for a timespan of 5 hours. Race takes at least 2 hours at a speed of 2.5 min/100m + warm up and other pre and post activities. This means it would require 7 boats * 2.4kW * 3600 * 4 = 67.2kWh?\n",
    "\n",
    "# Windmolens: https://www.windmolenskopen.nl/opbrengst-windmolens/ \n",
    "\n",
    "A windturbine with arms of 7m, at a windspeed of 7m/s generates on a yearly basis 35127kwh, so on a daily basis this would be 96kwh. \n",
    "\n"
   ]
  },
  {
   "cell_type": "markdown",
   "metadata": {},
   "source": [
    "# 6.\tIs it possible to accommodate these facilities within the city? \n",
    "\n",
    "A wind turbine would be easy to fit a wind turbine in Amsterdam physically, however, when taking into account the neighbours it will be hard. It is however possible and should be done, as there will be some in Noord and probably some in the port areas. \n",
    "\n",
    "According to pure-energie.nl, 1 solar panel is expected to generate 352 kwh per year, meaning that they would generate about 0.9 kwh per day. Then 67.2kWh/0.9kWh would be around 70-80. This is very feasible in Amsterdam. "
   ]
  },
  {
   "cell_type": "markdown",
   "metadata": {},
   "source": [
    "# Question 7.\tWould their be any effect on the water quality if there are less/no canal boats usingfossil fuels?\n",
    "\n",
    "Electric boats play an important role in maintaining clean water. They eliminate the risk of fuel or oil leaks into the water. “Boat engines are designed to deliver a large amount of power in a relatively small package. As a result, a certain amount of the fuel that enters into a motor is discharged unburned, and ends up in the water.” - Asplund (2000). \n",
    "\n"
   ]
  },
  {
   "cell_type": "markdown",
   "metadata": {},
   "source": []
  }
 ],
 "metadata": {
  "kernelspec": {
   "display_name": "Python 3",
   "language": "python",
   "name": "python3"
  },
  "language_info": {
   "codemirror_mode": {
    "name": "ipython",
    "version": 3
   },
   "file_extension": ".py",
   "mimetype": "text/x-python",
   "name": "python",
   "nbconvert_exporter": "python",
   "pygments_lexer": "ipython3",
   "version": "3.11.5"
  }
 },
 "nbformat": 4,
 "nbformat_minor": 2
}
