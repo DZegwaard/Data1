{
 "cells": [
  {
   "cell_type": "markdown",
   "metadata": {},
   "source": [
    "# Question 1\n",
    "\n",
    "How many of the canal boats currently in use are diesel/fossil fuel driven and how many boats are electrical driven?  \n",
    "\n",
    "In 2020 there were 550 canal boats in Amsterdam, owned by multiple companies. According to Reuters (2020), 75% of these boats (412 boats) are electrical driven. We suppose that the rest of the boats is fossil fuel driven. "
   ]
  },
  {
   "cell_type": "markdown",
   "metadata": {},
   "source": [
    "# Question 2\n",
    "\n",
    "Are there peak times for the canal boats? \n",
    "\n",
    "There are certain peak times of the canal boats in Amsterdam (Grachtenmonitor, 2022). In the graph below, the average amount of boats per hour on a day is visualized. \n",
    "\n",
    "![image.png](attachment:image.png) ![Alt text](image.png)\n",
    "\n",
    "\n",
    "\n",
    "In the graph below, the weekly rhytm of canal boats in Amsterdam can be seen.\n",
    "\n",
    "![image.png](attachment:image.png)\n",
    "\n",
    "In the table below, the passages per hour of the day on certain locations in Amsterdam can be seen. It is clear that there are some very busy spots at certain times.\n",
    "\n",
    "![image.png](attachment:image.png)"
   ]
  },
  {
   "cell_type": "markdown",
   "metadata": {},
   "source": [
    "# Question 3. \n",
    "Try to compare the energy use of the canal boats to some other activity in the city. \n",
    "Use canal boats more or less energy in relation to their carbon footprint compared to these other activities?\n",
    "\n",
    "Overall, both energy use and CO2 emissions of the canal boats is higher both per individual bout compared to an individual eletric bus as wel as the totals, however there are only 44 electric busses where as there are 412 electric canal boats and 138 diesel ones."
   ]
  },
  {
   "cell_type": "code",
   "execution_count": 21,
   "metadata": {},
   "outputs": [
    {
     "name": "stdout",
     "output_type": "stream",
     "text": [
      "Energy use for electrical boats 140755680000 kWh\n",
      "footprint windpower lower limit 312790 kg CO2/year\n",
      "footprint windpower lower limit 1329359 kg CO2/year\n",
      "footprint windpower lower limit 508284 kg CO2/year\n",
      "footprint windpower lower limit 1172964 kg CO2/year\n"
     ]
    }
   ],
   "source": [
    "#Engine type = Electric\n",
    "\n",
    "Energy_use_boat_in_kW = 26\n",
    "\n",
    "#For 412 boats, sailing 10 hours a day, the yearly energy consumption is\n",
    "\n",
    "Energy_use_for_electrical_boats = Energy_use_boat_in_kW * 3600 * 10 * 365 * 412\n",
    "\n",
    "print(\"Energy use for electrical boats\", Energy_use_for_electrical_boats, \"kWh\")\n",
    "\n",
    "Footprint_grey_kg_CO2_per_year = 14466556\n",
    "\n",
    "#Footprint windpower (kg CO2/year)\n",
    "footprint_windpower_upper_limit = 1329359\n",
    "footprint_windpower_lower_limit = 312790\n",
    "\n",
    "print(\"footprint windpower lower limit\", footprint_windpower_lower_limit, \"kg CO2/year\")\n",
    "print(\"footprint windpower lower limit\", footprint_windpower_upper_limit, \"kg CO2/year\")\n",
    "\n",
    "#Footprint solar (kg CO2/year)\n",
    "footprint_solar_upper_limit = 1172964\n",
    "footprint_solar_lower_limit = 508284\n",
    "\n",
    "print(\"footprint windpower lower limit\", footprint_solar_lower_limit, \"kg CO2/year\")\n",
    "print(\"footprint windpower lower limit\", footprint_solar_upper_limit, \"kg CO2/year\")"
   ]
  },
  {
   "cell_type": "code",
   "execution_count": null,
   "metadata": {},
   "outputs": [],
   "source": [
    "#Source:\n",
    "https://www.wattisduurzaam.nl/35498/energie-opwekken/zonne-energie/europese-zonnepanelen-nog-iets-beter-voor-klimaat-dan-chinese/#:~:text=De%20wetenschappers%20aan%20het%20Duitse,n%20800%20gram%20CO2%20uit.\n",
    "\n",
    "#Source: \n",
    "https://decorrespondent.nl/4256/factcheck-windmolens-kosten-meer-energie-dan-ze-opleveren-en-helpen-het-klimaat-niet/c2faef7a-df3a-0150-1a71-204f4ea80f44#:~:text=Daaruit%20blijkt%20dat%20de%20gemiddelde,gemiddeld%20900%20gram%20per%20kWh"
   ]
  },
  {
   "cell_type": "code",
   "execution_count": 2,
   "metadata": {},
   "outputs": [
    {
     "name": "stdout",
     "output_type": "stream",
     "text": [
      "total litres of diesel per year 14600 L\n",
      "Energy use diesel boats 102200 kWh\n",
      "5250569 kg CO2\n"
     ]
    }
   ],
   "source": [
    "#Engine_type = Diesel\n",
    "\n",
    "Average_litres_per_hour = 4\n",
    "\n",
    "hours_in_use_per_day = 10 \n",
    "\n",
    "total_litres_day = Average_litres_per_hour * hours_in_use_per_day\n",
    "\n",
    "total_litres_year = total_litres_day * 365\n",
    "\n",
    "print(\"total litres of diesel per year\", total_litres_year,\"L\")\n",
    "\n",
    "#Dieselbus gemeten volgens co2emissiefactoren.nl Nemen we evenwel de CO2 emissie zoals berekend door co2emissiefactoren.nl, \n",
    "# dan komen we op 3.230 gram CO2 uitstoot per liter diesel. De bus rijdt 3,5 km op één liter en dus kom je dan op een uitstoot van 923 gram CO2 per km. \n",
    "# In dit geval nemen we de 7 kWh per liter voor de gehele productieketen zoals berekend door Prof. Burkert van Springer niet mee.\n",
    "\n",
    "Energy_per_litre_diesel_in_kWh = 7 \n",
    "\n",
    "Energy_use_dieselboats = total_litres_year * Energy_per_litre_diesel_in_kWh\n",
    "\n",
    "print(\"Energy use diesel boats\", Energy_use_dieselboats, \"kWh\")\n",
    "\n",
    "Energy_use_per_year_kWh = 20148000\n",
    "\n",
    "#Dieselbus gemeten volgens co2emissiefactoren.nl Nemen we evenwel de CO2 emissie zoals berekend door co2emissiefactoren.nl, \n",
    "# dan komen we op 3.230 gram CO2 uitstoot per liter diesel. De bus rijdt 3,5 km op één liter en dus kom je dan op een uitstoot van 923 gram CO2 per km. \n",
    "# In dit geval nemen we de 7 kWh per liter voor de gehele productieketen zoals berekend door Prof. Burkert van Springer niet mee.\n",
    "\n",
    "#Uitstoot per kilometer voor een Dieselbus is volgens burkert 1856 gram oftewel 1.856 kg\n",
    "\n",
    "#Een bus rijdt 1 kilometer op 3.5 liter diesel\n",
    " \n",
    "Emission_CO2_per_litre = 1.856 / 3.5\n",
    "\n",
    "# Emission_dieselbus_per_year = total\n",
    "\n",
    "\n",
    "\n",
    "Footprint_per_year_kg_CO2 = 5250569\n",
    "\n",
    "print(Footprint_per_year_kg_CO2, \"kg CO2\")"
   ]
  },
  {
   "cell_type": "code",
   "execution_count": 1,
   "metadata": {},
   "outputs": [
    {
     "ename": "SyntaxError",
     "evalue": "invalid syntax (3402074878.py, line 3)",
     "output_type": "error",
     "traceback": [
      "\u001b[1;36m  Cell \u001b[1;32mIn[1], line 3\u001b[1;36m\u001b[0m\n\u001b[1;33m    Energy use per year (kWh) = 3300000\u001b[0m\n\u001b[1;37m           ^\u001b[0m\n\u001b[1;31mSyntaxError\u001b[0m\u001b[1;31m:\u001b[0m invalid syntax\n"
     ]
    }
   ],
   "source": [
    "Bus = Electric\n",
    "\n",
    "Energy use per year (kWh) = 3300000\n",
    "\n",
    "Footprint grey per year (kg CO2) = 1834800\n",
    "\n",
    "# Wind power\n",
    "\n",
    "footprint wind power per year upper limit (kg CO2) = 112200\n",
    "\n",
    "footprint wind power per year lower limit (kg CO2) = 99000\n",
    "\n",
    "# Solar power\n",
    "\n",
    "footprint solar power per year upper limit (kg CO2) = 26400\n",
    "\n",
    "footprint solar power per year lower limit (kg CO2) = 42900\n",
    "\n",
    "#Source: https://waterstofgate.nl/Praktijk/Businesscase-Bussen-verbruik/Businesscase-Bussen-CO2-uitstoot/#:~:text=Zijn%20er%20zorgen%20over%20de,en%20verbruikt%2075.000%20kWh%20elektriciteit."
   ]
  },
  {
   "cell_type": "markdown",
   "metadata": {},
   "source": [
    "# Question 3\n",
    "\n",
    "Would you consider it economically feasible?\n",
    "\n",
    "Converting a canal boat with a diesel engine to an electric engine is expensive. For a typical 23m (75ft.) tourist boat, this will cost around 165.000 to 250.000 euros. The conversion process takes about three months. The engines are quieter, cleaner and cheaper to run. Boat companies earn their investment back in about 12 years, according to the Paris Process on Mobility and Climate, a body that is supporting sustainable transport projects. \n",
    "\n",
    "A lot of boat companies chose to keep their old boats and only convert the engine instead of replacing the old boats. This is a more circular solution and keeps the charm of the old canal boats in the city. At ‘Rederij Kooij’ they calculated, that conversion to an electric driven engine is way cheaper than the old diesel enigines. \n",
    "\n"
   ]
  },
  {
   "cell_type": "markdown",
   "metadata": {},
   "source": [
    "# Question 4\n",
    "\n",
    "A minimum of 7 boats is required. These safety crafts should be able to hold at least 3 people. \n",
    "\n"
   ]
  },
  {
   "cell_type": "code",
   "execution_count": null,
   "metadata": {},
   "outputs": [],
   "source": []
  },
  {
   "cell_type": "markdown",
   "metadata": {},
   "source": [
    "# Question 5\n",
    "\n",
    "If only clean energy can be used, how many solar panels or wind turbines are needed?\n",
    "\n",
    "\n",
    "A boat from greenboatsolutions would require around 2,4 kW. If this boat would sail for a timespan of 5 hours. Race takes at least 2 hours at a speed of 2.5 min/100m + warm up and other pre and post activities. This means it would require 7 boats * 2.4kW * 3600 * 4 = 67.2kWh?\n",
    "\n",
    "# Windmolens: https://www.windmolenskopen.nl/opbrengst-windmolens/ \n",
    "\n",
    "A windturbine with arms of 7m, at a windspeed of 7m/s generates on a yearly basis 35127kwh, so on a daily basis this would be 96kwh. \n",
    "\n"
   ]
  },
  {
   "cell_type": "markdown",
   "metadata": {},
   "source": [
    "# 6.\tIs it possible to accommodate these facilities within the city? \n",
    "\n",
    "A wind turbine would be easy to fit a wind turbine in Amsterdam physically, however, when taking into account the neighbours it will be hard. It is however possible and should be done, as there will be some in Noord and probably some in the port areas. \n",
    "\n",
    "According to pure-energie.nl, 1 solar panel is expected to generate 352 kwh per year, meaning that they would generate about 0.9 kwh per day. Then 67.2kWh/0.9kWh would be around 70-80. This is very feasible in Amsterdam. "
   ]
  },
  {
   "cell_type": "markdown",
   "metadata": {},
   "source": [
    "# Question 7.\tWould their be any effect on the water quality if there are less/no canal boats usingfossil fuels?\n",
    "\n",
    "Electric boats play an important role in maintaining clean water. They eliminate the risk of fuel or oil leaks into the water. “Boat engines are designed to deliver a large amount of power in a relatively small package. As a result, a certain amount of the fuel that enters into a motor is discharged unburned, and ends up in the water.” - Asplund (2000). \n",
    "\n"
   ]
  },
  {
   "cell_type": "markdown",
   "metadata": {},
   "source": []
  }
 ],
 "metadata": {
  "kernelspec": {
   "display_name": "Python 3",
   "language": "python",
   "name": "python3"
  },
  "language_info": {
   "codemirror_mode": {
    "name": "ipython",
    "version": 3
   },
   "file_extension": ".py",
   "mimetype": "text/x-python",
   "name": "python",
   "nbconvert_exporter": "python",
   "pygments_lexer": "ipython3",
   "version": "3.11.5"
  }
 },
 "nbformat": 4,
 "nbformat_minor": 2
}
